{
 "cells": [
  {
   "cell_type": "code",
   "execution_count": 2,
   "id": "b469534c-c152-4059-b56c-6ee251070eea",
   "metadata": {},
   "outputs": [
    {
     "data": {
      "text/plain": [
       "[1, 2, 3, 4]"
      ]
     },
     "execution_count": 2,
     "metadata": {},
     "output_type": "execute_result"
    }
   ],
   "source": [
    "dna = [1, 2, 3, 4]\n",
    "dna"
   ]
  },
  {
   "cell_type": "code",
   "execution_count": 4,
   "id": "099ac7a1-a6ef-40c9-975a-441496c8f976",
   "metadata": {},
   "outputs": [
    {
     "data": {
      "text/plain": [
       "1"
      ]
     },
     "execution_count": 4,
     "metadata": {},
     "output_type": "execute_result"
    }
   ],
   "source": [
    "dna[0]"
   ]
  },
  {
   "cell_type": "code",
   "execution_count": 6,
   "id": "05481a98-edd5-476e-acf7-320279d38297",
   "metadata": {},
   "outputs": [
    {
     "data": {
      "text/plain": [
       "2"
      ]
     },
     "execution_count": 6,
     "metadata": {},
     "output_type": "execute_result"
    }
   ],
   "source": [
    "dna[1]"
   ]
  },
  {
   "cell_type": "code",
   "execution_count": 8,
   "id": "ecc7c341-bac6-4374-805b-3f6cf71c507d",
   "metadata": {},
   "outputs": [
    {
     "data": {
      "text/plain": [
       "3"
      ]
     },
     "execution_count": 8,
     "metadata": {},
     "output_type": "execute_result"
    }
   ],
   "source": [
    "dna[2]"
   ]
  },
  {
   "cell_type": "code",
   "execution_count": 11,
   "id": "1cd07caf-48f7-4947-8879-75244e4ab55e",
   "metadata": {},
   "outputs": [
    {
     "data": {
      "text/plain": [
       "1"
      ]
     },
     "execution_count": 11,
     "metadata": {},
     "output_type": "execute_result"
    }
   ],
   "source": [
    "gene0 = dna[0]\n",
    "gene0"
   ]
  },
  {
   "cell_type": "code",
   "execution_count": 12,
   "id": "b0480cb7-7d2e-474a-a934-05b0e24711de",
   "metadata": {},
   "outputs": [
    {
     "name": "stdout",
     "output_type": "stream",
     "text": [
      "1\n"
     ]
    }
   ],
   "source": [
    "print(gene0)"
   ]
  },
  {
   "cell_type": "code",
   "execution_count": 14,
   "id": "d3c1d1b5-0ace-4604-981f-23fedc532a43",
   "metadata": {},
   "outputs": [
    {
     "name": "stdout",
     "output_type": "stream",
     "text": [
      "6\n",
      "7\n",
      "8\n",
      "9\n"
     ]
    }
   ],
   "source": [
    "# for x in dna:\n",
    "#     print(x + 5)"
   ]
  },
  {
   "cell_type": "code",
   "execution_count": 36,
   "id": "5b79a140-1ccb-4a1a-9fb0-c2d7eced95fa",
   "metadata": {},
   "outputs": [
    {
     "name": "stdout",
     "output_type": "stream",
     "text": [
      "6\n"
     ]
    }
   ],
   "source": [
    "dna = [3, 1, 4, 2]\n",
    "\n",
    "# for i in [0, 1, 2, 3]:\n",
    "# N = 4\n",
    "# k = 0\n",
    "# for i in range(0, N):\n",
    "#     for j in range(0, N):\n",
    "#         if i == j:\n",
    "#             print(\"0\", end=\" \")\n",
    "#         else:\n",
    "#             # print(i, j)\n",
    "#             print(\"x\", end=\" \")\n",
    "#         k += 1\n",
    "#         # print(\"x\", end=\" \")\n",
    "#     # print(\"---------\")\n",
    "#     print()\n",
    "#     # print(i)\n",
    "\n",
    "print(sumFitness)\n",
    "    # print(\"---------\")\n",
    "    # print(i)"
   ]
  },
  {
   "cell_type": "code",
   "execution_count": 40,
   "id": "d6bce1d4-6ba6-4ec6-9639-e75a1660eef9",
   "metadata": {},
   "outputs": [],
   "source": [
    "# def function(x):\n",
    "#     print(x ** 2)\n",
    "# function(5)\n",
    "# function(10)"
   ]
  },
  {
   "cell_type": "code",
   "execution_count": 58,
   "id": "25aa7bc0-63a0-42ea-ad0b-056e82c8afe5",
   "metadata": {},
   "outputs": [
    {
     "data": {
      "text/plain": [
       "3"
      ]
     },
     "execution_count": 58,
     "metadata": {},
     "output_type": "execute_result"
    }
   ],
   "source": [
    "def getFitnessOfDNA(dna):\n",
    "    sumFitness = 0\n",
    "    N = len(dna)\n",
    "    # N = 5\n",
    "    for i in range(0, N):\n",
    "        for j in range(i + 1 , N):\n",
    "            # print(i, j)\n",
    "            if (dna[i] != dna[j] and\n",
    "               dna[i] + i != dna[j] + j and\n",
    "               dna[i] - i != dna[j] - j):\n",
    "                sumFitness += 1\n",
    "    return sumFitness\n",
    "\n",
    "# dna = [1, 2, 3, 4]\n",
    "# dna = [1, 4, 1, 4]\n",
    "\n",
    "# getFitnessOfDNA(dna)"
   ]
  },
  {
   "cell_type": "code",
   "execution_count": 55,
   "id": "f278287f-2319-4e7f-9509-ea797c9b3c49",
   "metadata": {},
   "outputs": [
    {
     "data": {
      "text/plain": [
       "[1, 2, 3]"
      ]
     },
     "execution_count": 55,
     "metadata": {},
     "output_type": "execute_result"
    }
   ],
   "source": [
    "[1, 2, 3]\n",
    "# length\n",
    "# len([1, 2, 3])\n"
   ]
  },
  {
   "cell_type": "code",
   "execution_count": 52,
   "id": "4eb72bdb-8a9f-4c5d-8192-32c283a2a3fd",
   "metadata": {},
   "outputs": [
    {
     "data": {
      "text/plain": [
       "[]"
      ]
     },
     "execution_count": 52,
     "metadata": {},
     "output_type": "execute_result"
    }
   ],
   "source": [
    "# list()"
   ]
  },
  {
   "cell_type": "code",
   "execution_count": 62,
   "id": "32859add-0df8-4cab-a92c-8f386ab1022a",
   "metadata": {},
   "outputs": [
    {
     "data": {
      "text/plain": [
       "[[1, 2, 3, 4], [3, 4, 2, 1], [3, 1, 4, 2], [1, 2, 4, 3]]"
      ]
     },
     "execution_count": 62,
     "metadata": {},
     "output_type": "execute_result"
    }
   ],
   "source": [
    "# [5, 3, [5, 2, 2]]\n",
    "dnas = [\n",
    "    [1, 2, 3, 4],\n",
    "    [3, 4, 2, 1],\n",
    "    [3, 1, 4, 2],\n",
    "    [1, 2, 4, 3]\n",
    "]\n",
    "dnas"
   ]
  },
  {
   "cell_type": "code",
   "execution_count": 65,
   "id": "b1dfbd27-bfa6-42c4-aa6f-7905563ba2f7",
   "metadata": {},
   "outputs": [
    {
     "name": "stdout",
     "output_type": "stream",
     "text": [
      "fitness =  0\n",
      "fitness =  4\n",
      "fitness =  6\n",
      "fitness =  4\n",
      "[0, 4, 6, 4]\n"
     ]
    }
   ],
   "source": [
    "fitnesses = []\n",
    "\n",
    "for dna in dnas:\n",
    "    f = getFitnessOfDNA(dna)\n",
    "    print(\"fitness = \", f)\n",
    "\n",
    "    fitnesses.append(f)\n",
    "\n",
    "print(fitnesses)"
   ]
  },
  {
   "cell_type": "code",
   "execution_count": 68,
   "id": "24932640-8086-4e00-b6e4-01d3ddd21578",
   "metadata": {},
   "outputs": [
    {
     "data": {
      "text/plain": [
       "14"
      ]
     },
     "execution_count": 68,
     "metadata": {},
     "output_type": "execute_result"
    }
   ],
   "source": [
    "sum_of_all_fitness = sum(fitnesses)\n",
    "sum_of_all_fitness"
   ]
  },
  {
   "cell_type": "code",
   "execution_count": 76,
   "id": "c136ac9e-59f4-4e7a-873c-7e536e7d655b",
   "metadata": {},
   "outputs": [
    {
     "data": {
      "text/plain": [
       "[0.0, 0.2857142857142857, 0.42857142857142855, 0.2857142857142857]"
      ]
     },
     "execution_count": 76,
     "metadata": {},
     "output_type": "execute_result"
    }
   ],
   "source": [
    "# props \n",
    "# [x ** 2 for x in [1, 2, 3]]\n",
    "props = [x / sum_of_all_fitness for x in fitnesses]\n",
    "props"
   ]
  },
  {
   "cell_type": "code",
   "execution_count": 79,
   "id": "605c0287-a786-4aa8-a07e-99b38ad06876",
   "metadata": {},
   "outputs": [
    {
     "name": "stdout",
     "output_type": "stream",
     "text": [
      "sum prop =  1\n"
     ]
    }
   ],
   "source": [
    "s = 0\n",
    "for p in props:\n",
    "    s += p\n",
    "print('sum prop = ', round(s))"
   ]
  },
  {
   "cell_type": "code",
   "execution_count": 83,
   "id": "e925da98-4a56-4584-8ee9-c3ce78ae4126",
   "metadata": {},
   "outputs": [],
   "source": [
    "# accum = 0\n",
    "# for p in props:\n",
    "import numpy as np"
   ]
  },
  {
   "cell_type": "code",
   "execution_count": 90,
   "id": "986466b3-988d-4934-8fde-91797597684d",
   "metadata": {},
   "outputs": [
    {
     "data": {
      "text/plain": [
       "[<matplotlib.lines.Line2D at 0x1160c2350>]"
      ]
     },
     "execution_count": 90,
     "metadata": {},
     "output_type": "execute_result"
    },
    {
     "data": {
      "image/png": "[encoded data removed]",
      "text/plain": [
       "<Figure size 640x480 with 1 Axes>"
      ]
     },
     "metadata": {},
     "output_type": "display_data"
    }
   ],
   "source": [
    "# numpy.accum\n",
    "import matplotlib.pyplot as plt\n",
    "\n",
    "cs = np.cumsum(props)\n",
    "plt.plot(cs)"
   ]
  },
  {
   "cell_type": "code",
   "execution_count": 99,
   "id": "fdcbd3a6-fda5-4b9a-9098-e47bfdee539f",
   "metadata": {},
   "outputs": [
    {
     "data": {
      "text/plain": [
       "array([0.        , 0.28571429, 0.71428571, 1.        ])"
      ]
     },
     "execution_count": 99,
     "metadata": {},
     "output_type": "execute_result"
    }
   ],
   "source": [
    "cs"
   ]
  },
  {
   "cell_type": "code",
   "execution_count": 101,
   "id": "27418852-6a29-43a7-8386-5d10dc876ac2",
   "metadata": {},
   "outputs": [
    {
     "name": "stdout",
     "output_type": "stream",
     "text": [
      "Collecting seaborn\n",
      "  Downloading seaborn-0.13.0-py3-none-any.whl (294 kB)\n",
      "\u001b[2K     \u001b[38;2;114;156;31m━━━━━━━━━━━━━━━━━━━━━━━━━━━━━━━━━━━━━━━\u001b[0m \u001b[32m294.6/294.6 kB\u001b[0m \u001b[31m4.4 MB/s\u001b[0m eta \u001b[36m0:00:00\u001b[0m[31m7.0 MB/s\u001b[0m eta \u001b[36m0:00:01\u001b[0m\n",
      "\u001b[?25hRequirement already satisfied: numpy!=1.24.0,>=1.20 in /Users/rio/miniconda3/lib/python3.11/site-packages (from seaborn) (1.25.0)\n",
      "Requirement already satisfied: pandas>=1.2 in /Users/rio/miniconda3/lib/python3.11/site-packages (from seaborn) (2.0.3)\n",
      "Requirement already satisfied: matplotlib!=3.6.1,>=3.3 in /Users/rio/miniconda3/lib/python3.11/site-packages (from seaborn) (3.7.1)\n",
      "Requirement already satisfied: contourpy>=1.0.1 in /Users/rio/miniconda3/lib/python3.11/site-packages (from matplotlib!=3.6.1,>=3.3->seaborn) (1.0.5)\n",
      "Requirement already satisfied: cycler>=0.10 in /Users/rio/miniconda3/lib/python3.11/site-packages (from matplotlib!=3.6.1,>=3.3->seaborn) (0.11.0)\n",
      "Requirement already satisfied: fonttools>=4.22.0 in /Users/rio/miniconda3/lib/python3.11/site-packages (from matplotlib!=3.6.1,>=3.3->seaborn) (4.25.0)\n",
      "Requirement already satisfied: kiwisolver>=1.0.1 in /Users/rio/miniconda3/lib/python3.11/site-packages (from matplotlib!=3.6.1,>=3.3->seaborn) (1.4.4)\n",
      "Requirement already satisfied: packaging>=20.0 in /Users/rio/miniconda3/lib/python3.11/site-packages (from matplotlib!=3.6.1,>=3.3->seaborn) (23.0)\n",
      "Requirement already satisfied: pillow>=6.2.0 in /Users/rio/miniconda3/lib/python3.11/site-packages (from matplotlib!=3.6.1,>=3.3->seaborn) (9.4.0)\n",
      "Requirement already satisfied: pyparsing>=2.3.1 in /Users/rio/miniconda3/lib/python3.11/site-packages (from matplotlib!=3.6.1,>=3.3->seaborn) (3.0.9)\n",
      "Requirement already satisfied: python-dateutil>=2.7 in /Users/rio/miniconda3/lib/python3.11/site-packages (from matplotlib!=3.6.1,>=3.3->seaborn) (2.8.2)\n",
      "Requirement already satisfied: pytz>=2020.1 in /Users/rio/miniconda3/lib/python3.11/site-packages (from pandas>=1.2->seaborn) (2023.3)\n",
      "Requirement already satisfied: tzdata>=2022.1 in /Users/rio/miniconda3/lib/python3.11/site-packages (from pandas>=1.2->seaborn) (2023.3)\n",
      "Requirement already satisfied: six>=1.5 in /Users/rio/miniconda3/lib/python3.11/site-packages (from python-dateutil>=2.7->matplotlib!=3.6.1,>=3.3->seaborn) (1.16.0)\n",
      "Installing collected packages: seaborn\n",
      "Successfully installed seaborn-0.13.0\n"
     ]
    }
   ],
   "source": [
    "!pip install seaborn\n",
    "\n",
    "import seaborn as sns"
   ]
  },
  {
   "cell_type": "code",
   "execution_count": 105,
   "id": "df10c726-a86e-4384-9948-ffe68b54b910",
   "metadata": {},
   "outputs": [
    {
     "data": {
      "image/png": "[encoded data removed]",
      "text/plain": [
       "<Figure size 640x480 with 1 Axes>"
      ]
     },
     "metadata": {},
     "output_type": "display_data"
    }
   ],
   "source": [
    "fig, ax = plt.subplots()\n",
    "\n",
    "labels = [\"dna \"+str(x) for x in range(4)]\n",
    "\n",
    "ax.pie(cs, labels=labels, autopct='%1.1f%%',\n",
    "          colors=sns.color_palette('Set2'),\n",
    "        shadow=True\n",
    "\n",
    ")\n",
    "plt.show()"
   ]
  },
  {
   "cell_type": "code",
   "execution_count": null,
   "id": "f6b12acf-94a2-4fb9-a015-b00d25582692",
   "metadata": {},
   "outputs": [],
   "source": []
  }
 ],
 "metadata": {
  "kernelspec": {
   "display_name": "Python 3 (ipykernel)",
   "language": "python",
   "name": "python3"
  },
  "language_info": {
   "codemirror_mode": {
    "name": "ipython",
    "version": 3
   },
   "file_extension": ".py",
   "mimetype": "text/x-python",
   "name": "python",
   "nbconvert_exporter": "python",
   "pygments_lexer": "ipython3",
   "version": "3.11.4"
  }
 },
 "nbformat": 4,
 "nbformat_minor": 5
}
